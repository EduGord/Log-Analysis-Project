{
 "cells": [
  {
   "cell_type": "markdown",
   "metadata": {},
   "source": [
    "## So what are we reporting, anyway?\n",
    "Here are the questions the reporting tool should answer. The example answers given aren't the right ones, though!\n",
    "\n",
    "**1. What are the most popular three articles of all time?** Which articles have been accessed the most? Present this information as a sorted list with the most popular article at the top.\n",
    "\n",
    "**2. Who are the most popular article authors of all time?** That is, when you sum up all of the articles each author has written, which authors get the most page views? Present this as a sorted list with the most popular author at the top.\n",
    "\n",
    "**3. On which days did more than 1% of requests lead to errors?** The log table includes a column status that indicates the HTTP status code that the news site sent to the user's browser."
   ]
  },
  {
   "cell_type": "code",
   "execution_count": 1,
   "metadata": {},
   "outputs": [],
   "source": [
    "#!/usr/bin/env python\n",
    "\n",
    "import psycopg2"
   ]
  },
  {
   "cell_type": "code",
   "execution_count": 2,
   "metadata": {},
   "outputs": [
    {
     "name": "stdout",
     "output_type": "stream",
     "text": [
      "Connected!\n"
     ]
    }
   ],
   "source": [
    "# Connect to an existing database\n",
    "\n",
    "try:\n",
    "    conn = psycopg2.connect(\"dbname=news\")\n",
    "except psycopg2.Error as e:\n",
    "    print(\"Unable to connect!\")\n",
    "    print(e.pgerror)\n",
    "    print(e.diag.message_detail)\n",
    "    sys.exit(1)\n",
    "else:\n",
    "    print \"Connected!\"\n",
    "\n",
    "# Open a cursor to perform database operations\n",
    "\n",
    "cur = conn.cursor()"
   ]
  },
  {
   "cell_type": "code",
   "execution_count": 3,
   "metadata": {},
   "outputs": [
    {
     "data": {
      "text/plain": [
       "[('log',), ('authors',), ('articles',)]"
      ]
     },
     "execution_count": 3,
     "metadata": {},
     "output_type": "execute_result"
    }
   ],
   "source": [
    "# Get database tables\n",
    "\n",
    "cur.execute(\"SELECT table_name \\\n",
    "FROM information_schema.tables \\\n",
    "WHERE table_schema = 'public'\")\n",
    "\n",
    "tables = cur.fetchall()\n",
    "tables"
   ]
  },
  {
   "cell_type": "code",
   "execution_count": 4,
   "metadata": {},
   "outputs": [
    {
     "name": "stdout",
     "output_type": "stream",
     "text": [
      "\n",
      "log: \n",
      "\n",
      "[('path',), ('ip',), ('method',), ('status',), ('time',), ('id',)]\n",
      "\n",
      "authors: \n",
      "\n",
      "[('name',), ('bio',), ('id',)]\n",
      "\n",
      "articles: \n",
      "\n",
      "[('author',), ('title',), ('slug',), ('lead',), ('body',), ('time',), ('id',)]\n"
     ]
    }
   ],
   "source": [
    "# Getting to know the columns/categories for each Table\n",
    "\n",
    "for table in tables:\n",
    "    \n",
    "    cur.execute(\"SELECT column_name \\\n",
    "    FROM information_schema.columns \\\n",
    "    WHERE table_name = '{!s}';\".format(table[0]))\n",
    "    \n",
    "    print('\\n' + table[0] + ': \\n')\n",
    "    print(cur.fetchall())"
   ]
  },
  {
   "cell_type": "code",
   "execution_count": 5,
   "metadata": {
    "scrolled": true
   },
   "outputs": [
    {
     "data": {
      "text/plain": [
       "[('/', 479121L),\n",
       " ('/article/candidate-is-jerk', 338647L),\n",
       " ('/article/bears-love-berries', 253801L),\n",
       " ('/article/bad-things-gone', 170098L),\n",
       " ('/article/goats-eat-googles', 84906L),\n",
       " ('/article/trouble-for-troubled', 84810L),\n",
       " ('/article/balloon-goons-doomed', 84557L),\n",
       " ('/article/so-many-bears', 84504L),\n",
       " ('/article/media-obsessed-with-bears', 84383L),\n",
       " ('/spam-spam-spam-humbug', 301L),\n",
       " ('/%20%20%20', 290L),\n",
       " ('/+++ATH0', 288L),\n",
       " ('/article/candidate-is-jerkx', 161L),\n",
       " ('/article/candidate-is-jerkq', 155L),\n",
       " ('/article/candidate-is-jerkh', 152L),\n",
       " ('/article/candidate-is-jerkr', 148L),\n",
       " ('/article/candidate-is-jerkg', 147L),\n",
       " ('/article/candidate-is-jerke', 146L),\n",
       " ('/article/candidate-is-jerkb', 144L),\n",
       " ('/article/candidate-is-jerkl', 144L),\n",
       " ('/article/candidate-is-jerkv', 143L),\n",
       " ('/article/candidate-is-jerki', 142L),\n",
       " ('/article/candidate-is-jerkn', 138L),\n",
       " ('/article/candidate-is-jerkt', 138L),\n",
       " ('/article/candidate-is-jerky', 137L),\n",
       " ('/article/candidate-is-jerkf', 137L),\n",
       " ('/article/candidate-is-jerkp', 135L),\n",
       " ('/article/candidate-is-jerka', 135L),\n",
       " ('/article/candidate-is-jerkw', 134L),\n",
       " ('/article/candidate-is-jerkc', 134L),\n",
       " ('/article/candidate-is-jerkz', 133L),\n",
       " ('/article/candidate-is-jerkm', 132L),\n",
       " ('/article/candidate-is-jerks', 131L),\n",
       " ('/article/candidate-is-jerkd', 124L),\n",
       " ('/article/candidate-is-jerku', 124L),\n",
       " ('/article/bears-love-berriesp', 123L),\n",
       " ('/article/candidate-is-jerkj', 121L),\n",
       " ('/article/candidate-is-jerkk', 120L),\n",
       " ('/article/bears-love-berriesb', 118L),\n",
       " ('/article/bears-love-berriesv', 117L),\n",
       " ('/article/bears-love-berriesw', 115L),\n",
       " ('/article/bears-love-berriesy', 111L),\n",
       " ('/article/bears-love-berriess', 110L),\n",
       " ('/article/bears-love-berriesm', 109L),\n",
       " ('/article/bears-love-berriesu', 106L),\n",
       " ('/article/bears-love-berriesj', 106L),\n",
       " ('/article/bears-love-berriest', 104L),\n",
       " ('/article/bears-love-berriesg', 104L),\n",
       " ('/article/bears-love-berriesq', 102L),\n",
       " ('/article/bears-love-berriesr', 102L),\n",
       " ('/article/bears-love-berriesi', 101L),\n",
       " ('/article/bears-love-berriesk', 101L),\n",
       " ('/article/bears-love-berriesn', 101L),\n",
       " ('/article/bears-love-berriesx', 100L),\n",
       " ('/article/bears-love-berriesc', 100L),\n",
       " ('/article/bears-love-berriesa', 97L),\n",
       " ('/article/bears-love-berriesd', 95L),\n",
       " ('/article/bears-love-berriese', 92L),\n",
       " ('/article/bears-love-berriesl', 92L),\n",
       " ('/article/bad-things-gonek', 88L),\n",
       " ('/article/bears-love-berriesf', 88L),\n",
       " ('/article/bears-love-berriesz', 88L),\n",
       " ('/article/bad-things-gonev', 84L),\n",
       " ('/article/bears-love-berriesh', 82L),\n",
       " ('/article/bad-things-goney', 73L),\n",
       " ('/article/bad-things-goneq', 73L),\n",
       " ('/article/bad-things-gonee', 72L),\n",
       " ('/article/bad-things-goneh', 72L),\n",
       " ('/article/bad-things-gonez', 72L),\n",
       " ('/article/bad-things-goneu', 70L),\n",
       " ('/article/bad-things-goneb', 69L),\n",
       " ('/article/bad-things-gonef', 68L),\n",
       " ('/article/bad-things-gonec', 67L),\n",
       " ('/article/bad-things-gonen', 67L),\n",
       " ('/article/bad-things-gones', 66L),\n",
       " ('/article/bad-things-gonea', 66L),\n",
       " ('/article/bad-things-gonem', 66L),\n",
       " ('/article/bad-things-gonew', 66L),\n",
       " ('/article/bad-things-gonep', 65L),\n",
       " ('/article/bad-things-gonej', 64L),\n",
       " ('/article/bad-things-goneg', 60L),\n",
       " ('/article/bad-things-gonel', 60L),\n",
       " ('/article/bad-things-gonei', 60L),\n",
       " ('/article/bad-things-gonex', 59L),\n",
       " ('/article/bad-things-goner', 55L),\n",
       " ('/article/bad-things-goned', 52L),\n",
       " ('/article/balloon-goons-doomedt', 50L),\n",
       " ('/article/goats-eat-googlesc', 50L),\n",
       " ('/article/trouble-for-troubledk', 50L),\n",
       " ('/article/bad-things-gonet', 50L),\n",
       " ('/article/media-obsessed-with-bearsb', 49L),\n",
       " ('/article/media-obsessed-with-bearse', 45L),\n",
       " ('/article/trouble-for-troubledm', 45L),\n",
       " ('/article/media-obsessed-with-bearsg', 44L),\n",
       " ('/article/trouble-for-troubledy', 44L),\n",
       " ('/article/balloon-goons-doomeda', 44L),\n",
       " ('/article/media-obsessed-with-bearsh', 43L),\n",
       " ('/article/goats-eat-googlesd', 43L),\n",
       " ('/article/so-many-bearsf', 43L),\n",
       " ('/article/media-obsessed-with-bearsc', 43L),\n",
       " ('/article/trouble-for-troubledg', 43L),\n",
       " ('/article/goats-eat-googlesl', 42L),\n",
       " ('/article/so-many-bearsx', 42L),\n",
       " ('/article/so-many-bearsv', 42L),\n",
       " ('/article/goats-eat-googlesx', 42L),\n",
       " ('/article/balloon-goons-doomedu', 41L),\n",
       " ('/article/so-many-bearsc', 41L),\n",
       " ('/article/trouble-for-troublede', 41L),\n",
       " ('/article/so-many-bearsm', 41L),\n",
       " ('/article/balloon-goons-doomedi', 41L),\n",
       " ('/article/media-obsessed-with-bearsa', 40L),\n",
       " ('/article/goats-eat-googlesb', 40L),\n",
       " ('/article/so-many-bearsh', 40L),\n",
       " ('/article/media-obsessed-with-bearsy', 40L),\n",
       " ('/article/goats-eat-googlesp', 39L),\n",
       " ('/article/so-many-bearsz', 39L),\n",
       " ('/article/trouble-for-troubledp', 39L),\n",
       " ('/article/goats-eat-googlesk', 38L),\n",
       " ('/article/balloon-goons-doomedb', 38L),\n",
       " ('/article/media-obsessed-with-bearsr', 38L),\n",
       " ('/article/trouble-for-troubledn', 38L),\n",
       " ('/article/balloon-goons-doomedj', 38L),\n",
       " ('/article/balloon-goons-doomedk', 38L),\n",
       " ('/article/trouble-for-troubleda', 38L),\n",
       " ('/article/goats-eat-googlesr', 38L),\n",
       " ('/article/trouble-for-troubledx', 37L),\n",
       " ('/article/balloon-goons-doomeds', 37L),\n",
       " ('/article/so-many-bearsb', 37L),\n",
       " ('/article/so-many-bearsl', 37L),\n",
       " ('/article/goats-eat-googless', 37L),\n",
       " ('/article/so-many-bearst', 37L),\n",
       " ('/article/so-many-bearsp', 37L),\n",
       " ('/article/so-many-bearsn', 37L),\n",
       " ('/article/media-obsessed-with-bearsm', 36L),\n",
       " ('/article/trouble-for-troubledh', 36L),\n",
       " ('/article/so-many-bearsj', 36L),\n",
       " ('/article/trouble-for-troubledb', 36L),\n",
       " ('/article/goats-eat-googlesw', 36L),\n",
       " ('/article/media-obsessed-with-bearsn', 36L),\n",
       " ('/article/goats-eat-googlesa', 36L),\n",
       " ('/article/so-many-bearsk', 35L),\n",
       " ('/article/balloon-goons-doomedp', 35L),\n",
       " ('/article/goats-eat-googlesz', 35L),\n",
       " ('/article/goats-eat-googlesm', 35L),\n",
       " ('/article/media-obsessed-with-bearsj', 35L),\n",
       " ('/article/media-obsessed-with-bearsk', 34L),\n",
       " ('/article/goats-eat-googlesv', 34L),\n",
       " ('/article/media-obsessed-with-bearsz', 34L),\n",
       " ('/article/media-obsessed-with-bearsf', 34L),\n",
       " ('/article/trouble-for-troubledw', 34L),\n",
       " ('/article/trouble-for-troubledj', 34L),\n",
       " ('/article/trouble-for-troubledt', 34L),\n",
       " ('/article/media-obsessed-with-bearsq', 34L),\n",
       " ('/article/goats-eat-googlesq', 34L),\n",
       " ('/article/trouble-for-troubledf', 34L),\n",
       " ('/article/goats-eat-googlesf', 34L),\n",
       " ('/article/media-obsessed-with-bearsi', 34L),\n",
       " ('/article/so-many-bearsa', 34L),\n",
       " ('/article/balloon-goons-doomedq', 34L),\n",
       " ('/article/so-many-bearsi', 34L),\n",
       " ('/article/so-many-bearss', 33L),\n",
       " ('/article/media-obsessed-with-bearsv', 33L),\n",
       " ('/article/so-many-bearsd', 33L),\n",
       " ('/article/so-many-bearsg', 33L),\n",
       " ('/article/so-many-bearsu', 33L),\n",
       " ('/article/balloon-goons-doomedd', 33L),\n",
       " ('/article/media-obsessed-with-bearsx', 33L),\n",
       " ('/article/goats-eat-googlesg', 33L),\n",
       " ('/article/trouble-for-troubledi', 33L),\n",
       " ('/article/balloon-goons-doomedn', 32L),\n",
       " ('/article/so-many-bearsw', 32L),\n",
       " ('/article/balloon-goons-doomedc', 31L),\n",
       " ('/article/goats-eat-googlesi', 31L),\n",
       " ('/article/so-many-bearsr', 31L),\n",
       " ('/article/media-obsessed-with-bearsp', 31L),\n",
       " ('/article/media-obsessed-with-bearss', 31L),\n",
       " ('/article/balloon-goons-doomedz', 31L),\n",
       " ('/article/media-obsessed-with-bearst', 31L),\n",
       " ('/article/balloon-goons-doomedy', 30L),\n",
       " ('/article/trouble-for-troubledv', 30L),\n",
       " ('/article/media-obsessed-with-bearsu', 30L),\n",
       " ('/article/trouble-for-troubledc', 30L),\n",
       " ('/article/balloon-goons-doomedv', 30L),\n",
       " ('/article/balloon-goons-doomedl', 30L),\n",
       " ('/article/goats-eat-googlese', 30L),\n",
       " ('/article/trouble-for-troubledl', 30L),\n",
       " ('/article/so-many-bearsy', 30L),\n",
       " ('/article/balloon-goons-doomedh', 30L),\n",
       " ('/article/media-obsessed-with-bearsl', 30L),\n",
       " ('/article/balloon-goons-doomedr', 30L),\n",
       " ('/article/media-obsessed-with-bearsd', 29L),\n",
       " ('/article/balloon-goons-doomedm', 29L),\n",
       " ('/article/trouble-for-troubledu', 29L),\n",
       " ('/article/trouble-for-troubleds', 29L),\n",
       " ('/article/balloon-goons-doomedw', 28L),\n",
       " ('/article/goats-eat-googlesj', 28L),\n",
       " ('/article/goats-eat-googlesh', 28L),\n",
       " ('/article/trouble-for-troubledz', 28L),\n",
       " ('/article/goats-eat-googlesu', 27L),\n",
       " ('/article/goats-eat-googlesy', 27L),\n",
       " ('/article/so-many-bearsq', 27L),\n",
       " ('/article/goats-eat-googlest', 27L),\n",
       " ('/article/trouble-for-troubledr', 26L),\n",
       " ('/article/balloon-goons-doomede', 26L),\n",
       " ('/article/trouble-for-troubledd', 26L),\n",
       " ('/article/balloon-goons-doomedg', 26L),\n",
       " ('/article/balloon-goons-doomedf', 25L),\n",
       " ('/article/goats-eat-googlesn', 25L),\n",
       " ('/article/trouble-for-troubledq', 25L),\n",
       " ('/article/so-many-bearse', 24L),\n",
       " ('/article/balloon-goons-doomedx', 23L),\n",
       " ('/article/media-obsessed-with-bearsw', 23L)]"
      ]
     },
     "execution_count": 5,
     "metadata": {},
     "output_type": "execute_result"
    }
   ],
   "source": [
    "cur.execute(\"CREATE VIEW articles_views_count AS \\\n",
    "SELECT path, count(*) AS views \\\n",
    "FROM log \\\n",
    "GROUP BY log.path \\\n",
    "ORDER BY views DESC;\")\n",
    "cur.execute('SELECT * from articles_views_count;')\n",
    "cur.fetchall()"
   ]
  },
  {
   "cell_type": "code",
   "execution_count": 6,
   "metadata": {},
   "outputs": [
    {
     "data": {
      "text/plain": [
       "[('bad-things-gone',),\n",
       " ('balloon-goons-doomed',),\n",
       " ('bears-love-berries',),\n",
       " ('candidate-is-jerk',),\n",
       " ('goats-eat-googles',),\n",
       " ('media-obsessed-with-bears',),\n",
       " ('trouble-for-troubled',),\n",
       " ('so-many-bears',)]"
      ]
     },
     "execution_count": 6,
     "metadata": {},
     "output_type": "execute_result"
    }
   ],
   "source": [
    "# Getting to know articles.slug\n",
    "\n",
    "cur.execute(\"SELECT slug \\\n",
    "FROM articles;\")\n",
    "\n",
    "cur.fetchall()"
   ]
  },
  {
   "cell_type": "code",
   "execution_count": 7,
   "metadata": {},
   "outputs": [
    {
     "data": {
      "text/plain": [
       "[('Candidate is jerk, alleges rival', Decimal('338647')),\n",
       " ('Bears love berries, alleges bear', Decimal('253801')),\n",
       " ('Bad things gone, say good people', Decimal('170098'))]"
      ]
     },
     "execution_count": 7,
     "metadata": {},
     "output_type": "execute_result"
    }
   ],
   "source": [
    "# Retrieving the 3 most accessed articles of all times\n",
    "\n",
    "cur.execute(\"SELECT articles.title, SUM(articles_views_count.views) \\\n",
    "AS views \\\n",
    "FROM articles_views_count \\\n",
    "JOIN articles \\\n",
    "ON articles_views_count.path = '/article/' || articles.slug \\\n",
    "GROUP BY articles.title \\\n",
    "ORDER BY views DESC \\\n",
    "LIMIT 3;\")\n",
    "\n",
    "query_1 = cur.fetchall()\n",
    "query_1"
   ]
  },
  {
   "cell_type": "code",
   "execution_count": 8,
   "metadata": {},
   "outputs": [
    {
     "data": {
      "text/plain": [
       "[(3,), (4,), (1,), (2,), (1,), (1,), (2,), (1,)]"
      ]
     },
     "execution_count": 8,
     "metadata": {},
     "output_type": "execute_result"
    }
   ],
   "source": [
    "# Getting to know articles.author\n",
    "\n",
    "cur.execute(\"SELECT author FROM articles;\")\n",
    "cur.fetchall()"
   ]
  },
  {
   "cell_type": "markdown",
   "metadata": {},
   "source": [
    "From the above query we can see that `articles.author` refer to IDS, not to the actual names of the *authors*"
   ]
  },
  {
   "cell_type": "code",
   "execution_count": 9,
   "metadata": {
    "scrolled": true
   },
   "outputs": [
    {
     "data": {
      "text/plain": [
       "[(1,), (2,), (3,), (4,)]"
      ]
     },
     "execution_count": 9,
     "metadata": {},
     "output_type": "execute_result"
    }
   ],
   "source": [
    "# Getting to know authors.id\n",
    "\n",
    "cur.execute(\"SELECT id FROM authors;\")\n",
    "cur.fetchall()"
   ]
  },
  {
   "cell_type": "code",
   "execution_count": 10,
   "metadata": {},
   "outputs": [
    {
     "data": {
      "text/plain": [
       "[('Ursula La Multa', Decimal('507594')),\n",
       " ('Rudolf von Treppenwitz', Decimal('423457')),\n",
       " ('Anonymous Contributor', Decimal('170098')),\n",
       " ('Markoff Chaney', Decimal('84557'))]"
      ]
     },
     "execution_count": 10,
     "metadata": {},
     "output_type": "execute_result"
    }
   ],
   "source": [
    "# Retrieving the most popular authors by the total number of views of each author articles\n",
    "\n",
    "cur.execute(\"SELECT authors.name, SUM(views) AS views \\\n",
    "FROM articles \\\n",
    "JOIN articles_views_count \\\n",
    "    ON articles_views_count.path = '/article/' || articles.slug \\\n",
    "JOIN authors \\\n",
    "    ON authors.id = articles.author \\\n",
    "GROUP BY authors.name \\\n",
    "ORDER BY views DESC;\")\n",
    "\n",
    "query_2 = cur.fetchall()\n",
    "query_2"
   ]
  },
  {
   "cell_type": "code",
   "execution_count": 11,
   "metadata": {},
   "outputs": [
    {
     "data": {
      "text/plain": [
       "[('404 NOT FOUND', 12908L), ('200 OK', 1664827L)]"
      ]
     },
     "execution_count": 11,
     "metadata": {},
     "output_type": "execute_result"
    }
   ],
   "source": [
    "# Seeing which status codes we have in the log table\n",
    "\n",
    "cur.execute(\"SELECT status, count(status) \\\n",
    "FROM log \\\n",
    "GROUP BY status;\")\n",
    "\n",
    "cur.fetchall()"
   ]
  },
  {
   "cell_type": "markdown",
   "metadata": {},
   "source": [
    "Since we only have two types of status codes, there's no need of grouping any further for counting, it either is a successful request or it throwed an *404 not found* error."
   ]
  },
  {
   "cell_type": "code",
   "execution_count": 12,
   "metadata": {
    "scrolled": true
   },
   "outputs": [
    {
     "data": {
      "text/plain": [
       "[(datetime.date(2016, 7, 17), 1265L),\n",
       " (datetime.date(2016, 7, 19), 433L),\n",
       " (datetime.date(2016, 7, 24), 431L),\n",
       " (datetime.date(2016, 7, 5), 423L),\n",
       " (datetime.date(2016, 7, 6), 420L),\n",
       " (datetime.date(2016, 7, 21), 418L),\n",
       " (datetime.date(2016, 7, 8), 418L),\n",
       " (datetime.date(2016, 7, 9), 410L),\n",
       " (datetime.date(2016, 7, 15), 408L),\n",
       " (datetime.date(2016, 7, 22), 406L),\n",
       " (datetime.date(2016, 7, 11), 403L),\n",
       " (datetime.date(2016, 7, 3), 401L),\n",
       " (datetime.date(2016, 7, 30), 397L),\n",
       " (datetime.date(2016, 7, 26), 396L),\n",
       " (datetime.date(2016, 7, 28), 393L),\n",
       " (datetime.date(2016, 7, 25), 391L),\n",
       " (datetime.date(2016, 7, 2), 389L),\n",
       " (datetime.date(2016, 7, 20), 383L),\n",
       " (datetime.date(2016, 7, 14), 383L),\n",
       " (datetime.date(2016, 7, 13), 383L),\n",
       " (datetime.date(2016, 7, 29), 382L),\n",
       " (datetime.date(2016, 7, 4), 380L),\n",
       " (datetime.date(2016, 7, 18), 374L),\n",
       " (datetime.date(2016, 7, 16), 374L),\n",
       " (datetime.date(2016, 7, 12), 373L),\n",
       " (datetime.date(2016, 7, 23), 373L),\n",
       " (datetime.date(2016, 7, 10), 371L),\n",
       " (datetime.date(2016, 7, 27), 367L),\n",
       " (datetime.date(2016, 7, 7), 360L),\n",
       " (datetime.date(2016, 7, 31), 329L),\n",
       " (datetime.date(2016, 7, 1), 274L)]"
      ]
     },
     "execution_count": 12,
     "metadata": {},
     "output_type": "execute_result"
    }
   ],
   "source": [
    "# Number of errors by day\n",
    "\n",
    "cur.execute(\"SELECT date(time), count(*) AS nerr \\\n",
    "FROM log \\\n",
    "WHERE status != '200 OK' \\\n",
    "GROUP BY date(time) \\\n",
    "ORDER BY nerr DESC;\")\n",
    "\n",
    "cur.fetchall()"
   ]
  },
  {
   "cell_type": "code",
   "execution_count": 13,
   "metadata": {
    "scrolled": true
   },
   "outputs": [
    {
     "data": {
      "text/plain": [
       "[(datetime.date(2016, 7, 17), 55907L),\n",
       " (datetime.date(2016, 7, 18), 55589L),\n",
       " (datetime.date(2016, 7, 19), 55341L),\n",
       " (datetime.date(2016, 7, 21), 55241L),\n",
       " (datetime.date(2016, 7, 9), 55236L),\n",
       " (datetime.date(2016, 7, 22), 55206L),\n",
       " (datetime.date(2016, 7, 2), 55200L),\n",
       " (datetime.date(2016, 7, 14), 55196L),\n",
       " (datetime.date(2016, 7, 13), 55180L),\n",
       " (datetime.date(2016, 7, 24), 55100L),\n",
       " (datetime.date(2016, 7, 8), 55084L),\n",
       " (datetime.date(2016, 7, 30), 55073L),\n",
       " (datetime.date(2016, 7, 15), 54962L),\n",
       " (datetime.date(2016, 7, 29), 54951L),\n",
       " (datetime.date(2016, 7, 4), 54903L),\n",
       " (datetime.date(2016, 7, 23), 54894L),\n",
       " (datetime.date(2016, 7, 3), 54866L),\n",
       " (datetime.date(2016, 7, 12), 54839L),\n",
       " (datetime.date(2016, 7, 28), 54797L),\n",
       " (datetime.date(2016, 7, 6), 54774L),\n",
       " (datetime.date(2016, 7, 7), 54740L),\n",
       " (datetime.date(2016, 7, 25), 54613L),\n",
       " (datetime.date(2016, 7, 5), 54585L),\n",
       " (datetime.date(2016, 7, 20), 54557L),\n",
       " (datetime.date(2016, 7, 16), 54498L),\n",
       " (datetime.date(2016, 7, 11), 54497L),\n",
       " (datetime.date(2016, 7, 27), 54489L),\n",
       " (datetime.date(2016, 7, 10), 54489L),\n",
       " (datetime.date(2016, 7, 26), 54378L),\n",
       " (datetime.date(2016, 7, 31), 45845L),\n",
       " (datetime.date(2016, 7, 1), 38705L)]"
      ]
     },
     "execution_count": 13,
     "metadata": {},
     "output_type": "execute_result"
    }
   ],
   "source": [
    "# Total number of access by day\n",
    "\n",
    "cur.execute(\"SELECT date(time) AS date, count(*) AS req \\\n",
    "FROM log \\\n",
    "GROUP BY date(time) \\\n",
    "ORDER BY req DESC;\")\n",
    "\n",
    "cur.fetchall()"
   ]
  },
  {
   "cell_type": "code",
   "execution_count": 14,
   "metadata": {
    "scrolled": true
   },
   "outputs": [
    {
     "data": {
      "text/plain": [
       "[(datetime.date(2016, 7, 17), Decimal('2.26')),\n",
       " (datetime.date(2016, 7, 19), Decimal('0.78')),\n",
       " (datetime.date(2016, 7, 24), Decimal('0.78')),\n",
       " (datetime.date(2016, 7, 6), Decimal('0.77')),\n",
       " (datetime.date(2016, 7, 5), Decimal('0.77')),\n",
       " (datetime.date(2016, 7, 8), Decimal('0.76')),\n",
       " (datetime.date(2016, 7, 21), Decimal('0.76')),\n",
       " (datetime.date(2016, 7, 11), Decimal('0.74')),\n",
       " (datetime.date(2016, 7, 22), Decimal('0.74')),\n",
       " (datetime.date(2016, 7, 9), Decimal('0.74')),\n",
       " (datetime.date(2016, 7, 15), Decimal('0.74')),\n",
       " (datetime.date(2016, 7, 3), Decimal('0.73')),\n",
       " (datetime.date(2016, 7, 26), Decimal('0.73')),\n",
       " (datetime.date(2016, 7, 31), Decimal('0.72')),\n",
       " (datetime.date(2016, 7, 25), Decimal('0.72')),\n",
       " (datetime.date(2016, 7, 28), Decimal('0.72')),\n",
       " (datetime.date(2016, 7, 30), Decimal('0.72')),\n",
       " (datetime.date(2016, 7, 1), Decimal('0.71')),\n",
       " (datetime.date(2016, 7, 20), Decimal('0.70')),\n",
       " (datetime.date(2016, 7, 29), Decimal('0.70')),\n",
       " (datetime.date(2016, 7, 2), Decimal('0.70')),\n",
       " (datetime.date(2016, 7, 13), Decimal('0.69')),\n",
       " (datetime.date(2016, 7, 14), Decimal('0.69')),\n",
       " (datetime.date(2016, 7, 4), Decimal('0.69')),\n",
       " (datetime.date(2016, 7, 16), Decimal('0.69')),\n",
       " (datetime.date(2016, 7, 12), Decimal('0.68')),\n",
       " (datetime.date(2016, 7, 23), Decimal('0.68')),\n",
       " (datetime.date(2016, 7, 10), Decimal('0.68')),\n",
       " (datetime.date(2016, 7, 27), Decimal('0.67')),\n",
       " (datetime.date(2016, 7, 18), Decimal('0.67')),\n",
       " (datetime.date(2016, 7, 7), Decimal('0.66'))]"
      ]
     },
     "execution_count": 14,
     "metadata": {},
     "output_type": "execute_result"
    }
   ],
   "source": [
    "# Percentage of errors by day\n",
    "\n",
    "cur.execute(\"SELECT err.date AS date, ROUND(100.0 * err.nerr / total.req, 2) AS percentage \\\n",
    "FROM (SELECT date(time) AS date, count(*) AS nerr \\\n",
    "    FROM log \\\n",
    "    WHERE status != '200 OK' \\\n",
    "    GROUP BY date) \\\n",
    "AS err \\\n",
    "JOIN (SELECT date(time) AS date, count(*) AS req \\\n",
    "    FROM log \\\n",
    "    GROUP BY date) \\\n",
    "AS total \\\n",
    "ON err.date = total.date \\\n",
    "ORDER BY percentage DESC;\")\n",
    "\n",
    "cur.fetchall()"
   ]
  },
  {
   "cell_type": "code",
   "execution_count": 15,
   "metadata": {
    "scrolled": true
   },
   "outputs": [
    {
     "data": {
      "text/plain": [
       "[(datetime.date(2016, 7, 17), Decimal('2.26'))]"
      ]
     },
     "execution_count": 15,
     "metadata": {},
     "output_type": "execute_result"
    }
   ],
   "source": [
    "# Days errors were throwed more than 1% of the total requests\n",
    "\n",
    "cur.execute(\"SELECT err.date AS date, ROUND(100.0 * err.nerr / total.req, 2) AS percentage \\\n",
    "FROM (SELECT date(time) AS date, count(*) AS nerr \\\n",
    "    FROM log \\\n",
    "    WHERE status != '200 OK' \\\n",
    "    GROUP BY date) \\\n",
    "AS err \\\n",
    "JOIN (SELECT date(time) AS date, count(*) AS req \\\n",
    "    FROM log \\\n",
    "    GROUP BY date) \\\n",
    "AS total \\\n",
    "ON err.date = total.date \\\n",
    "WHERE ROUND(100.0 * err.nerr / total.req, 2) >= 1;\")\n",
    "\n",
    "query_3 = cur.fetchall()\n",
    "query_3"
   ]
  },
  {
   "cell_type": "code",
   "execution_count": 16,
   "metadata": {},
   "outputs": [],
   "source": [
    "questions = [\"What are the most popular three articles of all time?\",\n",
    "             \"Who are the most popular article authors of all time?\",\n",
    "             \"On which days did more than 1% of requests lead to errors?\"]\n",
    "\n",
    "queries = [query_1, query_2, query_3]"
   ]
  },
  {
   "cell_type": "code",
   "execution_count": 17,
   "metadata": {},
   "outputs": [],
   "source": [
    "# Writting a file containing the questions and the answers\n",
    "\n",
    "labels = {0: [\"Article Name\",\"Views\"], 1: [\"Author Name\",\"Views\"], 2: [\"Date\",\"Errors Over Total Requests\"]}\n",
    "\n",
    "with open('data.txt', 'w') as f:\n",
    "    for i, question in enumerate(questions):\n",
    "        f.write(\"\\nQuestion {index}: {question}\\n\\n\".format(index = i + 1, question = questions[i]))\n",
    "        for j, query in enumerate(queries[i]):\n",
    "            f.write(\"\\t{label_1}: {info_1}\\n\\t{label_2}: {info_2}{conditional_percentage}\\n\\n\".format(label_1 = labels[i][0],\n",
    "                                                                                                    info_1 = queries[i][j][0],\n",
    "                                                                                                    label_2 = labels[i][1],\n",
    "                                                                                                    info_2 = queries[i][j][1],\n",
    "                                                                                                    conditional_percentage = \"%\" if i == 2 else \"\"))"
   ]
  },
  {
   "cell_type": "code",
   "execution_count": null,
   "metadata": {},
   "outputs": [],
   "source": []
  }
 ],
 "metadata": {
  "kernelspec": {
   "display_name": "Python 2",
   "language": "python",
   "name": "python2"
  },
  "language_info": {
   "codemirror_mode": {
    "name": "ipython",
    "version": 2
   },
   "file_extension": ".py",
   "mimetype": "text/x-python",
   "name": "python",
   "nbconvert_exporter": "python",
   "pygments_lexer": "ipython2",
   "version": "2.7.12"
  }
 },
 "nbformat": 4,
 "nbformat_minor": 2
}
